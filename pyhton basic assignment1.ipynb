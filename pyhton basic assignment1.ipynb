{
 "cells": [
  {
   "cell_type": "code",
   "execution_count": null,
   "id": "614db61d-7464-45c4-ae7f-ccc63c9c9a3a",
   "metadata": {},
   "outputs": [],
   "source": [
    "\n",
    "#Question1: Explain the key features of Python that make it a popular choice for programming.\n",
    "# Ans:There are so many key features of Python that make it a popular choice for programming:-\n",
    "#       a) It's syntax is very easy and clear. This makes it easier for beginners to pick up and for experienced programmers to            read and understand code written by others.\n",
    "#       b) It comes with a large collection of built-in modules, libraries and functions for tasks like data manipulation.\n",
    "#       c) It is an interpreted language, meaning the code is executed line by line at runtime. This can make it faster to                develop and test programs compared to compiled languages.\n",
    "#       d) Python is widely used in indusry like data industry.\n",
    "#       e) It has huge active community of developers who contribute to libraries, frameworks, and documentation. \n",
    "#       f) We do image processing in python.\n"
   ]
  },
  {
   "cell_type": "code",
   "execution_count": null,
   "id": "95811a6a-dddc-43cc-bcbe-ef77be3ac200",
   "metadata": {},
   "outputs": [],
   "source": [
    "# Question2: Describe the role of predefined keywords in Python and provide examples of how they are used in a program.\n",
    "# Ans: It is also known as reserved words. They are fundamental building blocks in Python that have special meanings. You can not      use them as variable names, function names, or any other identifiers you create in your program. \n",
    "#      examples: we can get by using below code."
   ]
  },
  {
   "cell_type": "code",
   "execution_count": 1,
   "id": "fe4a16c3-cc0b-44e4-8c9b-ff72e715b695",
   "metadata": {},
   "outputs": [
    {
     "name": "stdout",
     "output_type": "stream",
     "text": [
      "\n",
      "Here is a list of the Python keywords.  Enter any keyword to get more help.\n",
      "\n",
      "False               class               from                or\n",
      "None                continue            global              pass\n",
      "True                def                 if                  raise\n",
      "and                 del                 import              return\n",
      "as                  elif                in                  try\n",
      "assert              else                is                  while\n",
      "async               except              lambda              with\n",
      "await               finally             nonlocal            yield\n",
      "break               for                 not                 \n",
      "\n"
     ]
    }
   ],
   "source": [
    "help('keywords')"
   ]
  },
  {
   "cell_type": "code",
   "execution_count": 2,
   "id": "d043567c-00f8-4d20-b104-5ed1ed864416",
   "metadata": {},
   "outputs": [
    {
     "ename": "SyntaxError",
     "evalue": "cannot assign to True (3552134784.py, line 1)",
     "output_type": "error",
     "traceback": [
      "\u001b[0;36m  Cell \u001b[0;32mIn[2], line 1\u001b[0;36m\u001b[0m\n\u001b[0;31m    True = \"suraj\"\u001b[0m\n\u001b[0m    ^\u001b[0m\n\u001b[0;31mSyntaxError\u001b[0m\u001b[0;31m:\u001b[0m cannot assign to True\n"
     ]
    }
   ],
   "source": [
    "True = \"suraj\"\n",
    "print(True)  # it is wrong code because True is a predefined keywords, we can't make it as a variable name.\n"
   ]
  },
  {
   "cell_type": "code",
   "execution_count": null,
   "id": "cefbc82c-c903-4b74-b0e9-e0698452474c",
   "metadata": {},
   "outputs": [
    {
     "data": {
      "text/plain": [
       "str"
      ]
     },
     "execution_count": 2,
     "metadata": {},
     "output_type": "execute_result"
    }
   ],
   "source": [
    "# Question3: Compare and contrast mutable and immutable objects in Python with examples.\n",
    "# Ans: In Python, objects can be classified into two main categories based on their ability to be modified after creation:\n",
    "#     mutable and immutable.\n",
    "#     Mutable Object: Object which can be changed after creation.\n",
    "#     example: List, dictionary, set etc.\n",
    "#     Immutable object: Object which can be change after creation.\n",
    "#     example: string,tuple etc\n",
    "#code\n",
    "a = \"surajkumar\"\n",
    "type(a)"
   ]
  },
  {
   "cell_type": "code",
   "execution_count": 6,
   "id": "29b37f61-6a6c-4be2-9da8-eb7c121560ab",
   "metadata": {},
   "outputs": [
    {
     "name": "stdout",
     "output_type": "stream",
     "text": [
      "r\n"
     ]
    }
   ],
   "source": [
    "a[2]"
   ]
  },
  {
   "cell_type": "code",
   "execution_count": 9,
   "id": "7b945383-c6a5-44c8-b9ab-2d2e70e8fb90",
   "metadata": {},
   "outputs": [
    {
     "ename": "TypeError",
     "evalue": "'str' object does not support item assignment",
     "output_type": "error",
     "traceback": [
      "\u001b[0;31m---------------------------------------------------------------------------\u001b[0m",
      "\u001b[0;31mTypeError\u001b[0m                                 Traceback (most recent call last)",
      "Cell \u001b[0;32mIn[9], line 1\u001b[0m\n\u001b[0;32m----> 1\u001b[0m \u001b[43ma\u001b[49m\u001b[43m[\u001b[49m\u001b[38;5;241;43m2\u001b[39;49m\u001b[43m]\u001b[49m \u001b[38;5;241m=\u001b[39m \u001b[38;5;124m\"\u001b[39m\u001b[38;5;124mt\u001b[39m\u001b[38;5;124m\"\u001b[39m\n\u001b[1;32m      2\u001b[0m a\n",
      "\u001b[0;31mTypeError\u001b[0m: 'str' object does not support item assignment"
     ]
    }
   ],
   "source": [
    "a[2] = \"t\"\n",
    "a"
   ]
  },
  {
   "cell_type": "code",
   "execution_count": 10,
   "id": "95ee0fd8-7bbb-4663-a525-fe6eb8a15b58",
   "metadata": {},
   "outputs": [
    {
     "data": {
      "text/plain": [
       "'surajkumar'"
      ]
     },
     "execution_count": 10,
     "metadata": {},
     "output_type": "execute_result"
    }
   ],
   "source": [
    "a"
   ]
  },
  {
   "cell_type": "code",
   "execution_count": null,
   "id": "5d03e351-e8f5-46ba-91c3-b01f3d9edad1",
   "metadata": {},
   "outputs": [],
   "source": [
    "# from above example we can say that string is immutable"
   ]
  },
  {
   "cell_type": "code",
   "execution_count": 11,
   "id": "35a16504-e086-46e6-8ac9-374910b86dcc",
   "metadata": {},
   "outputs": [
    {
     "data": {
      "text/plain": [
       "[1, 2, 3, 4, 5]"
      ]
     },
     "execution_count": 11,
     "metadata": {},
     "output_type": "execute_result"
    }
   ],
   "source": [
    "b = [1,2,3,4,5]\n",
    "b"
   ]
  },
  {
   "cell_type": "code",
   "execution_count": 12,
   "id": "b1c2569b-419d-42ca-be96-f526980ec975",
   "metadata": {},
   "outputs": [
    {
     "data": {
      "text/plain": [
       "['suraj', 2, 3, 4, 5]"
      ]
     },
     "execution_count": 12,
     "metadata": {},
     "output_type": "execute_result"
    }
   ],
   "source": [
    "b[0] = \"suraj\"\n",
    "b"
   ]
  },
  {
   "cell_type": "code",
   "execution_count": null,
   "id": "ce085c09-49dc-4c3a-ab9c-79a2b6e67960",
   "metadata": {},
   "outputs": [],
   "source": [
    "# from above example we can say that list is mutable"
   ]
  },
  {
   "cell_type": "code",
   "execution_count": null,
   "id": "99f969fa-3969-4626-964f-2f5aab3841d5",
   "metadata": {},
   "outputs": [],
   "source": [
    "# Queston4: Discuss the different types of operators in Python and provide examples of how they are used.\n",
    "# Ans:  There are important type of operators.\n",
    "#       Arithmetic Operators => (+, -, *, /, %, **, //) \n",
    "#       Assignment operator => (=, +=, -=)\n",
    "#       Logical operators   => (and, or)\n",
    "#       Comparison Operators=> (==, >, <, <=, >=. !=)\n",
    "#       Bitwise Operators   =>(Bitwise OR, Bitwise AND, Bitwise XOR)\n",
    "#     code are given below"
   ]
  },
  {
   "cell_type": "code",
   "execution_count": 13,
   "id": "f7b8c6bd-9c38-4cb5-bae4-12aee3ed5481",
   "metadata": {},
   "outputs": [
    {
     "data": {
      "text/plain": [
       "(5, 1, 16, 2)"
      ]
     },
     "execution_count": 13,
     "metadata": {},
     "output_type": "execute_result"
    }
   ],
   "source": [
    "a=2+3\n",
    "b=3-2\n",
    "c=2**4\n",
    "d=4//2\n",
    "a,b,c,d"
   ]
  },
  {
   "cell_type": "code",
   "execution_count": 16,
   "id": "279b5386-9500-4e7b-994d-01dac2fd42f4",
   "metadata": {},
   "outputs": [
    {
     "data": {
      "text/plain": [
       "False"
      ]
     },
     "execution_count": 16,
     "metadata": {},
     "output_type": "execute_result"
    }
   ],
   "source": [
    "3>4"
   ]
  },
  {
   "cell_type": "code",
   "execution_count": 17,
   "id": "2e0ea30f-d6e0-406b-8ed9-bc95cbb6f570",
   "metadata": {},
   "outputs": [
    {
     "data": {
      "text/plain": [
       "True"
      ]
     },
     "execution_count": 17,
     "metadata": {},
     "output_type": "execute_result"
    }
   ],
   "source": [
    "56<=98"
   ]
  },
  {
   "cell_type": "code",
   "execution_count": 21,
   "id": "a512c283-43eb-4883-9108-f54b84068953",
   "metadata": {},
   "outputs": [
    {
     "data": {
      "text/plain": [
       "'0b1010'"
      ]
     },
     "execution_count": 21,
     "metadata": {},
     "output_type": "execute_result"
    }
   ],
   "source": [
    "a = bin(10)\n",
    "a"
   ]
  },
  {
   "cell_type": "code",
   "execution_count": 22,
   "id": "554577fe-a8f4-479b-99c6-bdf64f74737c",
   "metadata": {},
   "outputs": [
    {
     "data": {
      "text/plain": [
       "'0b101'"
      ]
     },
     "execution_count": 22,
     "metadata": {},
     "output_type": "execute_result"
    }
   ],
   "source": [
    "b = bin(5)\n",
    "b"
   ]
  },
  {
   "cell_type": "code",
   "execution_count": 23,
   "id": "76cc45f3-5011-4a4c-80ad-ef9ecb756d4e",
   "metadata": {},
   "outputs": [
    {
     "data": {
      "text/plain": [
       "'0b101'"
      ]
     },
     "execution_count": 23,
     "metadata": {},
     "output_type": "execute_result"
    }
   ],
   "source": [
    "a and b"
   ]
  },
  {
   "cell_type": "code",
   "execution_count": null,
   "id": "e2ee9d6c-7aeb-42fb-a67c-997da9b5a97d",
   "metadata": {},
   "outputs": [],
   "source": [
    "# Question5: Explain the concept of type casting in Python with examples.\n",
    "# Ans:It refers to the process of converting a variable from one data type to another.\n",
    "#     example are given below"
   ]
  },
  {
   "cell_type": "code",
   "execution_count": 24,
   "id": "30663421-c2e4-4632-a7ed-92bfced5dbf2",
   "metadata": {},
   "outputs": [
    {
     "data": {
      "text/plain": [
       "int"
      ]
     },
     "execution_count": 24,
     "metadata": {},
     "output_type": "execute_result"
    }
   ],
   "source": [
    "a = 8\n",
    "type(a)"
   ]
  },
  {
   "cell_type": "code",
   "execution_count": 25,
   "id": "fa006d6c-f16a-43c2-bb29-42858918ea99",
   "metadata": {},
   "outputs": [
    {
     "data": {
      "text/plain": [
       "str"
      ]
     },
     "execution_count": 25,
     "metadata": {},
     "output_type": "execute_result"
    }
   ],
   "source": [
    "type(str(a))"
   ]
  },
  {
   "cell_type": "code",
   "execution_count": 26,
   "id": "d6b05fe0-2a65-4c38-ad07-9c9202c68325",
   "metadata": {},
   "outputs": [
    {
     "data": {
      "text/plain": [
       "str"
      ]
     },
     "execution_count": 26,
     "metadata": {},
     "output_type": "execute_result"
    }
   ],
   "source": [
    "a = \"234\"\n",
    "type(a)"
   ]
  },
  {
   "cell_type": "code",
   "execution_count": 27,
   "id": "59e342d3-f1b0-4002-84db-a14cdcc4c6db",
   "metadata": {},
   "outputs": [
    {
     "data": {
      "text/plain": [
       "int"
      ]
     },
     "execution_count": 27,
     "metadata": {},
     "output_type": "execute_result"
    }
   ],
   "source": [
    "type(int(a))"
   ]
  },
  {
   "cell_type": "code",
   "execution_count": null,
   "id": "9cea5bdf-6d8f-4a9b-9297-1d017bc0b126",
   "metadata": {},
   "outputs": [],
   "source": [
    "# Question6: How do conditional statements work in Python? Illustrate with examples.\n",
    "# Ans:  Conditional statements in Python are fundamental building blocks that allow your program to make decisions based\n",
    "#       on certain conditions. They control the flow of execution by directing the program to execute different code blocks\n",
    "#       depending on whether a condition is True or False.\n",
    "#      types:\n",
    "#         if, if else, if elif else"
   ]
  },
  {
   "cell_type": "code",
   "execution_count": 28,
   "id": "56a5506f-789c-47fb-a647-ac852b7c0045",
   "metadata": {},
   "outputs": [
    {
     "name": "stdout",
     "output_type": "stream",
     "text": [
      "You are eligible to vote.\n"
     ]
    }
   ],
   "source": [
    "# if statement\n",
    "age = 18\n",
    "\n",
    "if age >= 18:\n",
    "    print(\"You are eligible to vote.\")\n"
   ]
  },
  {
   "cell_type": "code",
   "execution_count": 29,
   "id": "ae90c895-d4b2-475e-a9c0-c35c4769e286",
   "metadata": {},
   "outputs": [
    {
     "name": "stdout",
     "output_type": "stream",
     "text": [
      "Enjoy the weather!\n"
     ]
    }
   ],
   "source": [
    "# if else statement\n",
    "weather = \"sunny\"\n",
    "\n",
    "if weather == \"rainy\":\n",
    "    print(\"Bring an umbrella.\")\n",
    "else:\n",
    "    print(\"Enjoy the weather!\")\n"
   ]
  },
  {
   "cell_type": "code",
   "execution_count": 30,
   "id": "c86d8863-2edd-4c18-88e3-e9b89aaa2aa4",
   "metadata": {},
   "outputs": [
    {
     "name": "stdout",
     "output_type": "stream",
     "text": [
      "Very good!\n"
     ]
    }
   ],
   "source": [
    "# if else elif statement\n",
    "grade = 85\n",
    "\n",
    "if grade >= 90:\n",
    "    print(\"Excellent!\")\n",
    "elif grade >= 80:\n",
    "    print(\"Very good!\")\n",
    "else:\n",
    "    print(\"Keep practicing!\")\n"
   ]
  },
  {
   "cell_type": "code",
   "execution_count": null,
   "id": "32f36908-9eb1-44a8-9583-d337ce72fa59",
   "metadata": {},
   "outputs": [],
   "source": [
    "# Question7: Describe the different types of loops in Python and their use cases with examples.\n",
    "# Ans: In Python, loops are allow you to execute a block of code repeatedly. \n",
    "#       There are two main types of loops: while loop, for loop"
   ]
  },
  {
   "cell_type": "code",
   "execution_count": 31,
   "id": "fd0781ae-bc04-4509-a6c7-8f4c835f4f13",
   "metadata": {},
   "outputs": [
    {
     "name": "stdout",
     "output_type": "stream",
     "text": [
      "0\n",
      "1\n",
      "2\n",
      "3\n",
      "4\n"
     ]
    }
   ],
   "source": [
    " # while loop example\n",
    "count = 0\n",
    "while count < 5:\n",
    "    print(count)\n",
    "    count += 1\n"
   ]
  },
  {
   "cell_type": "code",
   "execution_count": 32,
   "id": "501fe60a-43de-47c4-b279-0581316f847c",
   "metadata": {},
   "outputs": [
    {
     "name": "stdout",
     "output_type": "stream",
     "text": [
      "apple\n",
      "banana\n",
      "cherry\n"
     ]
    }
   ],
   "source": [
    "# for loop example\n",
    "fruits = [\"apple\", \"banana\", \"cherry\"]\n",
    "\n",
    "for fruit in fruits:\n",
    "    print(fruit)\n",
    "\n",
    "    \n",
    "# use cases:\n",
    "#     Processing each item in a sequence (e.g., calculating average, printing elements).\n",
    "#     Modifying elements within a sequence (with caution to avoid unintended side effects due to potential iteration changes).\n"
   ]
  },
  {
   "cell_type": "code",
   "execution_count": null,
   "id": "52bd4a20-78d8-45b2-87bf-47475201a566",
   "metadata": {},
   "outputs": [],
   "source": []
  }
 ],
 "metadata": {
  "kernelspec": {
   "display_name": "Python 3 (ipykernel)",
   "language": "python",
   "name": "python3"
  },
  "language_info": {
   "codemirror_mode": {
    "name": "ipython",
    "version": 3
   },
   "file_extension": ".py",
   "mimetype": "text/x-python",
   "name": "python",
   "nbconvert_exporter": "python",
   "pygments_lexer": "ipython3",
   "version": "3.10.8"
  }
 },
 "nbformat": 4,
 "nbformat_minor": 5
}
